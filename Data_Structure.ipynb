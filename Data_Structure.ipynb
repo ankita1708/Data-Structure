{
  "nbformat": 4,
  "nbformat_minor": 0,
  "metadata": {
    "colab": {
      "provenance": []
    },
    "kernelspec": {
      "name": "python3",
      "display_name": "Python 3"
    },
    "language_info": {
      "name": "python"
    }
  },
  "cells": [
    {
      "cell_type": "code",
      "execution_count": null,
      "metadata": {
        "id": "zqYh4ZDGHza-"
      },
      "outputs": [],
      "source": []
    },
    {
      "cell_type": "markdown",
      "source": [
        "# theory questions\n",
        "# 1 what are data structure, and why are they important?\n",
        "  -#   data structure are fundamental components in computer science that  \n",
        "        organize, manage and store data efficiently. they are essiential     for various reasons, including efficient problem-solving, imporving coding  skills and solving real-world problems.\n",
        "# 2. explain the difference between mutable and immutable data types with\n",
        "      example.\n",
        "  - # mutable:- mutable objects are objects whose can be changes the value after creation. list[ ] is a mutable.\n",
        "  eg:- l =[2,4,6,7]\n",
        "  print(l)\n",
        "  print(type(l))\n",
        "  l[0] = \"ankita\"\n",
        "  print(l)\n",
        "  output :- 'ankita'\n",
        "  # immutable:- immutable objects are objects whose can not be changes the value after creation. string, tuples are immutable.\n",
        "  eg:- s = ('a','c','g','h')\n",
        "  print(s)\n",
        "  print(type(s))\n",
        "  s(0) ='f'\n",
        "  print(s)  # this will throw error\n",
        "  output:- string obnect not change.\n",
        "#3.  what are the main difference between lists and tuples in python?\n",
        "- #  lists[ ]:- list is  mutable. we can change the value of the lists. lists\n",
        "                writes in [] square brackets. list is a collection of item of same or different data types stored in square.\n",
        " #   tuple():- tuple is immutable. we can not change the value. tuple is a  \n",
        "               value of collection of item of same or different data types stored in round bracket().\n",
        "#4.  Describe how dictionaries store data.\n",
        "-  # A python dictionary is a data structure that stores the value in key:value pairs, values in a dictionary can be of any data type and can be duplicated, whereas key can't be repeated and must be immutable.\n",
        "#5. why might you use a set instead of a list in python?\n",
        "- # 1. A set cannot any duplicate values.\n",
        "       A list can contain duplicate values.\n",
        "       A set can be more easily(and quickly) generated from a map via key set().\n",
        "       A lists are defined using square brackets[].\n",
        "       A sets are defined using curly braces{}.\n",
        "       A list is ordered collection.\n",
        "       A sets is unorderd collection.\n",
        "#6. how do tuples ensure data integrity in python?\n",
        "-  # tuples are immutable to ensure that the contents remain constant  \n",
        "     throughout their liofecycle,guranteeing,data integrity allows tuple to be used as keys in dictionaries and elements in sets, as they can be hashed.\n",
        "# 7. what is a string in python and how is it different from a list?\n",
        "- # string():- string is a sequence of characters which are enclorsed within\n",
        "               simple quotes, and double quotes. string is immutable. we can not the change of the value after creation.\n",
        "  #  lists[]:- list is a collection of items of same or different data types\n",
        "               stored in square bracket[]. list is mutable. we can change the value of after creation.\n",
        "# 8.  what is a hash table and how does it relate to dictionaries in python?\n",
        "-  #  A hash table is a data structure that uses a hash function to map keys to\n",
        "      values, allowing for fast lookups, while python dictonaries are implemented using hash tables, enabling efficient storage and retrival of key-value pairs.\n",
        "# 9.can list contain different data types in python?\n",
        "- #  althrough it's not really common, a list can also contain a mix of python types including strings, floats and booleans.\n",
        "# 10. Explain why strings are immutable in python?\n",
        "-  #  string is immutable becasuse we can not the change value after ctreation.\n",
        "      string is using the defined in round brackets(). string are writes always 'single quote and qouble quotes.\n",
        "      eg:- s =('a,'b','c','d')\n",
        "        print(s)\n",
        "      print(type(s))\n",
        "      s(0) ='k'\n",
        "      print(s)   # this will throw a error.\n",
        "\n",
        "      output:- string object can not chnages.\n",
        "# 11. what advantages do dictaniores over list for certain tasks?\n",
        "-  #  Dictionary:- dictionaries excel over lists from tasks requirng fast data\n",
        "      retrieval,key-value association unorderd nature, dynamic size and organization by keys.\n",
        "#   lists:- lists are better for ordered collection , index based access,     \n",
        "            slicing and sequence operations.\n",
        "# 12. describe a scenario where using atuple would be prefrence over a list.\n",
        "-  #  tuples are immutable. if you want the data in your collection to be     \n",
        "      read-only, never to change, and always remain the same and constant. they are primilary used to store data that doesn't frequently changed.\n",
        "# 13. how do sets handle duplicate values in python?\n",
        "-  #  duplicates item are not allowed in set. if items appear multiple times,   \n",
        "      only one will be recognised in the set. the items in a set are unorderd.\n",
        "# 14. how does the \"in\" word keyword work differently for list and dictionaries?\n",
        "-  # Dictionary value can be duplicated like a list\n",
        "   list[]:- eg;- l =[12,24,40]\n",
        "   for i in l:\n",
        "   print(i)\n",
        "    output: 12\n",
        "            24\n",
        "            40\n",
        "    dictionary{};- dict = {\"hello\":\"hi\",t\"thank you\":\"welcome!\"}\n",
        "    hello in dict:\n",
        "    'hi'\n",
        "    \"thank you\" in dict:\n",
        "    'welcome!'\n",
        "# 15. can you modify the element of tuple? explain why or why not.\n",
        "-  #  once tuple is created after we cannot change the value,add or remove.\n",
        "      tupple is unchangable because tuple is mutable.tuple is creating round bracket().\n",
        "# 16.what is a nested dictionary,and give an example of its use case?\n",
        "-  # we can store dictionaries inside another dictionary this is called nested dictionary:\n",
        "eg:- think of a libaray where each book has its own set of details\n",
        "libarary ={\n",
        "          \"book1\":{\n",
        "            \"title\":\"python programing\",\n",
        "            \"author\":\"darshan\",\n",
        "            \"year\":2021\n",
        "          },\n",
        "          \"book2\":{\n",
        "            \"title\":\"java\",\n",
        "            \"author\":\"ankita\",\n",
        "            \"year\":2022\n",
        "          }\n",
        "}\n",
        "print(libaray)\n",
        "# 17. describe the time comlexity of accessing elements in a dictionary.\n",
        "- # accessing elements in a dictionary typically has an average time complexity\n",
        "     of o(1),meaning it takes constant time regardless of the dictionary's size, due to the use of a hash function for efficient lookups.\n",
        "# 18. In what situations are list perfered over dictionaries?\n",
        "-   # for quick data lookups,configurations, or caches for dictionaries.\n",
        "     for ordered collection and sequence operations such as maintaing a stack or queue, list are more suitable.\n",
        "# 19. why are dictionaries considered unorderd, and how does that effect data\n",
        "      retrieval?\n",
        "-  #  dictionaries are considered unorderd because they store data as key-  \n",
        "      value pairs, and the order in which these pairs are inserted is not preserved; they are optimized for fast key-based retrieval, not sequential access.\n",
        "# 20. explain the difference between a list and a dictionary in terms of data\n",
        "      retrival.\n",
        "  - # in terms of data retrieval, lists access elements by their numerical  \n",
        "      index (starting from 0), while dictionaries access elements by their unique associated key.\n",
        "     eg:-list[]:- you access elements using their index, retrive the first element my_list\n",
        "     my_list =[\"apple\",\"banana\",\"cheery\"]\n",
        "     print(my_list[0]) = 'apple\n",
        "     print(my_list[2]) = 'cherry'\n",
        "\n",
        "     dictionary{}:- you access elements using their key-value, retrive the first element my_dict{}\n",
        "     my_dict = {\"name\":\"ankita\",\"age\":35}\n",
        "     print(my_dict[\"name\"])  # ankita\n",
        "     print(my_dict[\"age\"])   # 35\n"
      ],
      "metadata": {
        "id": "tAKkzvM6ICYF"
      }
    },
    {
      "cell_type": "code",
      "source": [
        "# practical questions:-\n",
        "# 1. write a code to create a string with your name and print it.\n",
        "username = input(\"enter your name\")\n",
        "print(username)"
      ],
      "metadata": {
        "colab": {
          "base_uri": "https://localhost:8080/"
        },
        "id": "zDuGT6UCIBGI",
        "outputId": "0d899f4b-f616-434e-ecc7-414dae5faa93"
      },
      "execution_count": null,
      "outputs": [
        {
          "output_type": "stream",
          "name": "stdout",
          "text": [
            "enter your name\"ankita agarwal\"\n",
            "\"ankita agarwal\"\n"
          ]
        }
      ]
    },
    {
      "cell_type": "code",
      "source": [
        "#2. write a code to find the length of the string \"hello world\".\n",
        "s = \"hello world\"\n",
        "print(s)\n",
        "print(len(s))"
      ],
      "metadata": {
        "colab": {
          "base_uri": "https://localhost:8080/"
        },
        "id": "jkLMTJbKIBNO",
        "outputId": "72051949-45f3-47e8-df1b-4ff775d4e76a"
      },
      "execution_count": null,
      "outputs": [
        {
          "output_type": "stream",
          "name": "stdout",
          "text": [
            "hello world\n",
            "11\n"
          ]
        }
      ]
    },
    {
      "cell_type": "code",
      "source": [
        "# 3. write a code to slice the first 3 character from the string\"python programing\".\n",
        "s = \"python programing\"\n",
        "print(s)\n",
        "print(s[3:])"
      ],
      "metadata": {
        "colab": {
          "base_uri": "https://localhost:8080/"
        },
        "id": "UdpUhyIHIBUM",
        "outputId": "40bc41b5-6166-4996-92cd-2cd67f8129d2"
      },
      "execution_count": null,
      "outputs": [
        {
          "output_type": "stream",
          "name": "stdout",
          "text": [
            "python programing\n",
            "hon programing\n"
          ]
        }
      ]
    },
    {
      "cell_type": "code",
      "source": [
        "# 4. write a code to convert the string \"hello\" to uppercase.\n",
        "s = \"hello\"\n",
        " #string to convert uppercase\n",
        "print(s.upper())"
      ],
      "metadata": {
        "colab": {
          "base_uri": "https://localhost:8080/"
        },
        "id": "C0KgJBfvIBaP",
        "outputId": "de379295-cd8c-4904-9d59-236a34de193b"
      },
      "execution_count": null,
      "outputs": [
        {
          "output_type": "stream",
          "name": "stdout",
          "text": [
            "HELLO\n"
          ]
        }
      ]
    },
    {
      "cell_type": "code",
      "source": [
        "#5. write a code to replace the word \"apple\" with \"orange\" in the string \"I like apple\".\n",
        "s = \"I like apple\"\n",
        " # \"apple\" replace \"orange\" word\n",
        "print(s.replace(\"apple\",\"orange\"))"
      ],
      "metadata": {
        "colab": {
          "base_uri": "https://localhost:8080/"
        },
        "id": "PhsNanQwIBjH",
        "outputId": "034db4f8-4d67-4daf-aa02-9c9c0d1acaa3"
      },
      "execution_count": null,
      "outputs": [
        {
          "output_type": "stream",
          "name": "stdout",
          "text": [
            "I like orange\n"
          ]
        }
      ]
    },
    {
      "cell_type": "code",
      "source": [
        "# 6. write a code to create a list with number 1 to 5 and print\n",
        "# range() is used create a list :\n",
        "list(range(1,5))"
      ],
      "metadata": {
        "colab": {
          "base_uri": "https://localhost:8080/"
        },
        "id": "IviR87usyAIT",
        "outputId": "e80bf765-b249-4fb7-a4ed-c9903d651aec"
      },
      "execution_count": 25,
      "outputs": [
        {
          "output_type": "execute_result",
          "data": {
            "text/plain": [
              "[1, 2, 3, 4]"
            ]
          },
          "metadata": {},
          "execution_count": 25
        }
      ]
    },
    {
      "cell_type": "code",
      "source": [
        "#7. write a code to append the number 10 to the list [1,2,3,4].\n",
        "l = [1,2,3,4]\n",
        "print(l)\n",
        "l.append(10)\n",
        "print(l)"
      ],
      "metadata": {
        "colab": {
          "base_uri": "https://localhost:8080/"
        },
        "id": "OmGYGjbEyATL",
        "outputId": "b7735b4c-ad13-4ebf-89da-7e979e95f882"
      },
      "execution_count": null,
      "outputs": [
        {
          "output_type": "stream",
          "name": "stdout",
          "text": [
            "[1, 2, 3, 4]\n",
            "[1, 2, 3, 4, 10]\n"
          ]
        }
      ]
    },
    {
      "cell_type": "code",
      "source": [
        "# 8. write a code to remove the number 3 from the list[1,2,3,4,5]\n",
        "l = [1,2,3,4,5]\n",
        "print(l)\n",
        "l.remove(3)\n",
        "print(l)"
      ],
      "metadata": {
        "colab": {
          "base_uri": "https://localhost:8080/"
        },
        "id": "KkTiTesh48jh",
        "outputId": "8379aa73-da31-4479-b83b-191cdda6c853"
      },
      "execution_count": null,
      "outputs": [
        {
          "output_type": "stream",
          "name": "stdout",
          "text": [
            "[1, 2, 3, 4, 5]\n",
            "[1, 2, 4, 5]\n"
          ]
        }
      ]
    },
    {
      "cell_type": "code",
      "source": [
        "# 9. write a code to access the second element in the list['a','b','c','d']\n",
        "l = ['a','b','c','d']\n",
        "print(l)\n",
        "print(l[1])\n"
      ],
      "metadata": {
        "colab": {
          "base_uri": "https://localhost:8080/"
        },
        "id": "M7Puf0iO48ux",
        "outputId": "ad1b0253-3eea-4a43-bf35-2d266f7a6808"
      },
      "execution_count": null,
      "outputs": [
        {
          "output_type": "stream",
          "name": "stdout",
          "text": [
            "['a', 'b', 'c', 'd']\n",
            "b\n"
          ]
        }
      ]
    },
    {
      "cell_type": "code",
      "source": [
        "#10. write a code to reverse a list [10,20,30,40,50]\n",
        "l= [10,20,30,40,50]\n",
        "print(l)\n",
        "l.reverse()\n",
        "print(l)"
      ],
      "metadata": {
        "colab": {
          "base_uri": "https://localhost:8080/"
        },
        "id": "u-uP4zTt55h6",
        "outputId": "289dada2-e1e4-4915-f328-14aee7906001"
      },
      "execution_count": null,
      "outputs": [
        {
          "output_type": "stream",
          "name": "stdout",
          "text": [
            "[10, 20, 30, 40, 50]\n",
            "[50, 40, 30, 20, 10]\n"
          ]
        }
      ]
    },
    {
      "cell_type": "code",
      "source": [
        "#11.write a code to create a tuple with the elements 100,200,300 and print it.\n",
        "t =(100,200,300)\n",
        "print(t)\n",
        "print(type(t))"
      ],
      "metadata": {
        "colab": {
          "base_uri": "https://localhost:8080/"
        },
        "id": "Zzu35-KM55ud",
        "outputId": "4938a8eb-3106-4efd-eff0-50bbea5e7597"
      },
      "execution_count": null,
      "outputs": [
        {
          "output_type": "stream",
          "name": "stdout",
          "text": [
            "(100, 200, 300)\n",
            "<class 'tuple'>\n"
          ]
        }
      ]
    },
    {
      "cell_type": "code",
      "source": [
        "# 12. write a code to access the second to last element of the tuple('red','green','blue','yellow')\n",
        "t =('red','green','blue','yellow')\n",
        "print(t)\n",
        "print(t[2:])"
      ],
      "metadata": {
        "colab": {
          "base_uri": "https://localhost:8080/"
        },
        "id": "9g2tHR4E8Qt8",
        "outputId": "ae01665d-6813-474a-d600-1a2c42c4a7f9"
      },
      "execution_count": null,
      "outputs": [
        {
          "output_type": "stream",
          "name": "stdout",
          "text": [
            "('red', 'green', 'blue', 'yellow')\n",
            "('blue', 'yellow')\n"
          ]
        }
      ]
    },
    {
      "cell_type": "code",
      "source": [
        "# 13. write a code to find the minimum number in the tuple(10,20,5,15)\n",
        "t =(10,20,5,15)\n",
        "print(t)\n",
        "smallest_number =min(t)\n",
        "print(smallest_number)"
      ],
      "metadata": {
        "colab": {
          "base_uri": "https://localhost:8080/"
        },
        "id": "6sg-GF868Q3r",
        "outputId": "04730c98-9b63-4776-f6cf-3eb7d7e9bf85"
      },
      "execution_count": null,
      "outputs": [
        {
          "output_type": "stream",
          "name": "stdout",
          "text": [
            "(10, 20, 5, 15)\n",
            "5\n"
          ]
        }
      ]
    },
    {
      "cell_type": "code",
      "source": [
        "# 14. write a code to find the index of the element \"cat\" in the element(\"dog\",\"cat\",\"rabbit\")\n",
        "t =(\"dog\",\"cat\",\"rabbit\")\n",
        "print(t)\n",
        "t.index(\"cat\")\n"
      ],
      "metadata": {
        "colab": {
          "base_uri": "https://localhost:8080/"
        },
        "id": "FyhMEH2M_8Go",
        "outputId": "2387de3b-0c7e-4357-8620-1bc1c579534a"
      },
      "execution_count": null,
      "outputs": [
        {
          "output_type": "stream",
          "name": "stdout",
          "text": [
            "('dog', 'cat', 'rabbit')\n"
          ]
        },
        {
          "output_type": "execute_result",
          "data": {
            "text/plain": [
              "1"
            ]
          },
          "metadata": {},
          "execution_count": 30
        }
      ]
    },
    {
      "cell_type": "code",
      "source": [
        "# 15. write a code to create a tuple containg three different fruits and check if \"kiwi\" is in it.\n",
        "t =(\"apple\",\"kiwi\",\"banana\")\n",
        "if \"kiwi\" in t:\n",
        "  print('kiwi is in the tuple')\n",
        "else:\n",
        "  print('kiwi is not in the tuple')"
      ],
      "metadata": {
        "colab": {
          "base_uri": "https://localhost:8080/"
        },
        "id": "ds-Ru2VZ_8KL",
        "outputId": "7e1bc832-d5b6-4f5e-c55e-1495c04e5c31"
      },
      "execution_count": null,
      "outputs": [
        {
          "output_type": "stream",
          "name": "stdout",
          "text": [
            "kiwi is in the tuple\n"
          ]
        }
      ]
    },
    {
      "cell_type": "code",
      "source": [
        "# 16. write a code to create a set with the elements 'a','b','c' and print it\n",
        "s ={'a','b','c'}\n",
        "print(s)\n",
        "print(type(s))\n",
        "# accessing the element\n",
        "\n",
        "print(s[0]) # this throw an error\n",
        "# set is unoredred and unindexed."
      ],
      "metadata": {
        "colab": {
          "base_uri": "https://localhost:8080/",
          "height": 228
        },
        "id": "gJ5EPZLnBeli",
        "outputId": "fc1d7ad9-b36d-44e6-caac-2b166b6c9f35"
      },
      "execution_count": null,
      "outputs": [
        {
          "output_type": "stream",
          "name": "stdout",
          "text": [
            "{'c', 'b', 'a'}\n",
            "<class 'set'>\n"
          ]
        },
        {
          "output_type": "error",
          "ename": "TypeError",
          "evalue": "'set' object is not subscriptable",
          "traceback": [
            "\u001b[0;31m---------------------------------------------------------------------------\u001b[0m",
            "\u001b[0;31mTypeError\u001b[0m                                 Traceback (most recent call last)",
            "\u001b[0;32m<ipython-input-33-283a7eab5ae8>\u001b[0m in \u001b[0;36m<cell line: 0>\u001b[0;34m()\u001b[0m\n\u001b[1;32m      3\u001b[0m \u001b[0mprint\u001b[0m\u001b[0;34m(\u001b[0m\u001b[0ms\u001b[0m\u001b[0;34m)\u001b[0m\u001b[0;34m\u001b[0m\u001b[0;34m\u001b[0m\u001b[0m\n\u001b[1;32m      4\u001b[0m \u001b[0mprint\u001b[0m\u001b[0;34m(\u001b[0m\u001b[0mtype\u001b[0m\u001b[0;34m(\u001b[0m\u001b[0ms\u001b[0m\u001b[0;34m)\u001b[0m\u001b[0;34m)\u001b[0m\u001b[0;34m\u001b[0m\u001b[0;34m\u001b[0m\u001b[0m\n\u001b[0;32m----> 5\u001b[0;31m \u001b[0mprint\u001b[0m\u001b[0;34m(\u001b[0m\u001b[0ms\u001b[0m\u001b[0;34m[\u001b[0m\u001b[0;36m0\u001b[0m\u001b[0;34m]\u001b[0m\u001b[0;34m)\u001b[0m\u001b[0;34m\u001b[0m\u001b[0;34m\u001b[0m\u001b[0m\n\u001b[0m\u001b[1;32m      6\u001b[0m \u001b[0;31m# set is unoredred and unindexed.\u001b[0m\u001b[0;34m\u001b[0m\u001b[0;34m\u001b[0m\u001b[0m\n",
            "\u001b[0;31mTypeError\u001b[0m: 'set' object is not subscriptable"
          ]
        }
      ]
    },
    {
      "cell_type": "code",
      "source": [
        "# 17. write a code to clear all elements from set{1,2,3,4,5}\n",
        "s ={1,2,3,4,5}\n",
        "print(s)\n",
        "s.clear()\n",
        "print(s)"
      ],
      "metadata": {
        "colab": {
          "base_uri": "https://localhost:8080/"
        },
        "id": "MUvgSKwSBewy",
        "outputId": "123095b1-871a-4097-d5c4-43e020a7ad41"
      },
      "execution_count": null,
      "outputs": [
        {
          "output_type": "stream",
          "name": "stdout",
          "text": [
            "{1, 2, 3, 4, 5}\n",
            "set()\n"
          ]
        }
      ]
    },
    {
      "cell_type": "code",
      "source": [
        "# 18.  write a code to remove the element 4  from the set {1,2,3,4}\n",
        "s ={1,2,3,4}\n",
        "print(s)\n",
        "s.remove(4)\n",
        "print(s)"
      ],
      "metadata": {
        "colab": {
          "base_uri": "https://localhost:8080/"
        },
        "id": "QitQNUmaC7hn",
        "outputId": "d2f9feb8-24b3-43f4-e3c3-f7d0c9f9aa65"
      },
      "execution_count": null,
      "outputs": [
        {
          "output_type": "stream",
          "name": "stdout",
          "text": [
            "{1, 2, 3, 4}\n",
            "{1, 2, 3}\n"
          ]
        }
      ]
    },
    {
      "cell_type": "code",
      "source": [
        "#19. write a code to find the union of two sets {1,2,3} and {3,4,5}\n",
        "s1 ={1,2,3}\n",
        "s2 ={3,4,5}\n",
        "print(s1)\n",
        "print(s2)\n",
        "print(s1.union(s2))"
      ],
      "metadata": {
        "colab": {
          "base_uri": "https://localhost:8080/"
        },
        "id": "tl0ihayYDPlV",
        "outputId": "98e9a070-2837-4b7a-adb1-5a739cebef40"
      },
      "execution_count": null,
      "outputs": [
        {
          "output_type": "stream",
          "name": "stdout",
          "text": [
            "{1, 2, 3}\n",
            "{3, 4, 5}\n",
            "{1, 2, 3, 4, 5}\n"
          ]
        }
      ]
    },
    {
      "cell_type": "code",
      "source": [
        "# 20. write a code to find the intersection of two sets {1,2,3} and {2,3,4}\n",
        "s1 = {1,2,3}\n",
        "s2 ={2,3,4}\n",
        "print(s1)\n",
        "print(s2)\n",
        "print(s1.intersection(s2))"
      ],
      "metadata": {
        "colab": {
          "base_uri": "https://localhost:8080/"
        },
        "id": "IMEsAtXGDPov",
        "outputId": "400ebd00-70bd-422b-c6ab-9c3dce314d36"
      },
      "execution_count": null,
      "outputs": [
        {
          "output_type": "stream",
          "name": "stdout",
          "text": [
            "{1, 2, 3}\n",
            "{2, 3, 4}\n",
            "{2, 3}\n"
          ]
        }
      ]
    },
    {
      "cell_type": "code",
      "source": [
        "# 21.write a code dictionary with keys \"name\",\"age\",and \"city\" and print it.\n",
        "d ={\"name\":\"ankita\",\"age\":30,\"city\":\"pune\"}\n",
        "print(d)\n",
        "print(type(d))\n",
        "print(d[\"name\"])\n",
        "print(d[\"age\"])\n",
        "print(d[\"city\"])"
      ],
      "metadata": {
        "id": "hmjynsjPD6lJ",
        "colab": {
          "base_uri": "https://localhost:8080/"
        },
        "outputId": "7222a83e-5b05-4569-fcd2-8c11ba33179e"
      },
      "execution_count": 3,
      "outputs": [
        {
          "output_type": "stream",
          "name": "stdout",
          "text": [
            "{'name': 'ankita', 'age': 30, 'city': 'pune'}\n",
            "<class 'dict'>\n",
            "ankita\n",
            "30\n",
            "pune\n"
          ]
        }
      ]
    },
    {
      "cell_type": "code",
      "source": [
        "# 22. write a code to add a new key-value pair \"country\":\"USA\" to the dictionary{'name:'john','age':25}\n",
        "d = {\"name\":\"john\",\"age\":25}\n",
        "print(d)\n",
        "add_name = {\"country\":\"USA\"}\n",
        "d.update(add_name)\n",
        "print(d)"
      ],
      "metadata": {
        "id": "kwlAWP3GD6w0",
        "colab": {
          "base_uri": "https://localhost:8080/"
        },
        "outputId": "20ddab66-412a-4056-a48b-66f313e0d611"
      },
      "execution_count": 6,
      "outputs": [
        {
          "output_type": "stream",
          "name": "stdout",
          "text": [
            "{'name': 'john', 'age': 25}\n",
            "{'name': 'john', 'age': 25, 'country': 'USA'}\n"
          ]
        }
      ]
    },
    {
      "cell_type": "code",
      "source": [
        "# 23. write a code to access the value associated with the key \"name\" in the dictionary.{\"name\":\"alice\",\"age\":30}\n",
        "d ={\"name\":\"alice\",\"age\":30}\n",
        "print(d)\n",
        "print(d[\"name\"])\n",
        "print(d[\"age\"])"
      ],
      "metadata": {
        "colab": {
          "base_uri": "https://localhost:8080/"
        },
        "id": "YDiImdDFKxwq",
        "outputId": "015ffe33-93ac-4520-b256-421ecb86e139"
      },
      "execution_count": 7,
      "outputs": [
        {
          "output_type": "stream",
          "name": "stdout",
          "text": [
            "{'name': 'alice', 'age': 30}\n",
            "alice\n",
            "30\n"
          ]
        }
      ]
    },
    {
      "cell_type": "code",
      "source": [
        "# 24. write a code to remove the key\"age\" from the dictionary{\"name\":\"bob\",\"age\":22,\"city\":\"newyork\"}\n",
        "d ={\"name\":\"bob\",\"age\":22,\"city\":\"network\"}\n",
        "print(d)\n",
        "d.pop(\"age\")\n",
        "print(d)"
      ],
      "metadata": {
        "colab": {
          "base_uri": "https://localhost:8080/"
        },
        "id": "N7YZVrZQKx4f",
        "outputId": "871ed4f5-0082-4327-d854-f40c676c2e23"
      },
      "execution_count": 8,
      "outputs": [
        {
          "output_type": "stream",
          "name": "stdout",
          "text": [
            "{'name': 'bob', 'age': 22, 'city': 'network'}\n",
            "{'name': 'bob', 'city': 'network'}\n"
          ]
        }
      ]
    },
    {
      "cell_type": "code",
      "source": [
        "# 25. write a code to check if the key \"city\" exists in the dictionary {\"name\":\"alice\",\"city\":\"paris\"}\n",
        "d ={\"name\":\"alice\",\"city\":\"paris\"}\n",
        "print(d)\n",
        "if \"city\" in d:\n",
        "  print(\"city is present in the dictionary\")\n",
        "else:\n",
        "  print(\"city is not present in the dicitonary\")"
      ],
      "metadata": {
        "colab": {
          "base_uri": "https://localhost:8080/"
        },
        "id": "wSNrR2y8LQqG",
        "outputId": "c09c1e8e-8179-4eb4-f534-e839a503254d"
      },
      "execution_count": 9,
      "outputs": [
        {
          "output_type": "stream",
          "name": "stdout",
          "text": [
            "{'name': 'alice', 'city': 'paris'}\n",
            "city is present in the dictionary\n"
          ]
        }
      ]
    },
    {
      "cell_type": "code",
      "source": [
        "# 26.write a code to create a list,tuple and dictionary and print it.\n",
        "# list example:-\n",
        "l = [10,20,30,40]\n",
        "print(l)\n",
        "print(type(l))\n",
        "print(l[0])\n",
        "# tuple:-\n",
        "t=(10,20,30,40)\n",
        "print(t)\n",
        "print(type(t))\n",
        "print(t[0])\n",
        "# dictionary example;-\n",
        "d ={0:10,1:20,2:30,3:40}\n",
        "print(d)\n",
        "print(type(d))\n",
        "print(d[1])"
      ],
      "metadata": {
        "colab": {
          "base_uri": "https://localhost:8080/"
        },
        "id": "1w0FNm9aPpED",
        "outputId": "7c2c26a4-10ca-4a2a-8e76-1dbce526d0a0"
      },
      "execution_count": 17,
      "outputs": [
        {
          "output_type": "stream",
          "name": "stdout",
          "text": [
            "[10, 20, 30, 40]\n",
            "<class 'list'>\n",
            "10\n",
            "(10, 20, 30, 40)\n",
            "<class 'tuple'>\n",
            "10\n",
            "{0: 10, 1: 20, 2: 30, 3: 40}\n",
            "<class 'dict'>\n",
            "20\n"
          ]
        }
      ]
    },
    {
      "cell_type": "code",
      "source": [
        "# 27. write a code to create a list of 5 random number between 1 and 100, sort it in asscending order and print the result.\n",
        "import random\n",
        "rand_list=[]\n",
        "for i in range(5):\n",
        "  n=random.randint(1,100)\n",
        "  rand_list.append(n)\n",
        "print(rand_list)\n",
        "rand_list.sort()\n",
        "print(rand_list)"
      ],
      "metadata": {
        "colab": {
          "base_uri": "https://localhost:8080/"
        },
        "id": "pQccv2V2PpNr",
        "outputId": "c238abe2-b35e-4c76-97eb-cb35916322e6"
      },
      "execution_count": 22,
      "outputs": [
        {
          "output_type": "stream",
          "name": "stdout",
          "text": [
            "[51, 46, 34, 18, 46]\n",
            "[18, 34, 46, 46, 51]\n"
          ]
        }
      ]
    },
    {
      "cell_type": "code",
      "source": [
        "# 28. write a code to create a list with strings and print the elements at the third index.\n",
        "str_list =[\"python\",\"is\",\"programing language\"]\n",
        "delimiter =\" \"\n",
        "join_str = delimiter.join(str_list)\n",
        "print(join_str)\n"
      ],
      "metadata": {
        "colab": {
          "base_uri": "https://localhost:8080/"
        },
        "id": "8mo5V_MEQE2U",
        "outputId": "67b7876f-6108-4083-d5a1-a8707597a543"
      },
      "execution_count": 24,
      "outputs": [
        {
          "output_type": "stream",
          "name": "stdout",
          "text": [
            "python is programing language\n"
          ]
        }
      ]
    },
    {
      "cell_type": "code",
      "source": [
        "# 29. write a code to combine two dictionaries into one and print the result\n",
        "# suppose i given a one libaray and 2 books details to combine.\n",
        "libarary = {\n",
        "    \"book1\":{\n",
        "        \"title\":\"python programing\",\n",
        "        \"author\":\"darshan\",\n",
        "        \"year\":2021\n",
        "    },\n",
        "    \"book2\":{\n",
        "        \"title\":\"java\",\n",
        "        \"author\":\"riddhi\",\n",
        "        \"year\":2021\n",
        "    }\n",
        "}\n",
        "print(libarary)"
      ],
      "metadata": {
        "colab": {
          "base_uri": "https://localhost:8080/"
        },
        "id": "E0fzUzwUQE9Z",
        "outputId": "b5374a44-c583-491c-8d9b-5976e938aa39"
      },
      "execution_count": 18,
      "outputs": [
        {
          "output_type": "stream",
          "name": "stdout",
          "text": [
            "{'book1': {'title': 'python programing', 'author': 'darshan', 'year': 2021}, 'book2': {'title': 'java', 'author': 'riddhi', 'year': 2021}}\n"
          ]
        }
      ]
    },
    {
      "cell_type": "code",
      "source": [
        "# 30. write a code to convert a list of string into a set.\n",
        "mylist =[\"apple\",\"banana\",\"cherry\",\"banana\",\"orange\"]\n",
        "print(mylist)\n",
        "myset = set(mylist)\n",
        "print(myset)\n",
        "\n"
      ],
      "metadata": {
        "colab": {
          "base_uri": "https://localhost:8080/"
        },
        "id": "-esEOfNfQfIU",
        "outputId": "1168ef33-d8c9-415b-fc85-7dbcbe241f59"
      },
      "execution_count": 19,
      "outputs": [
        {
          "output_type": "stream",
          "name": "stdout",
          "text": [
            "['apple', 'banana', 'cherry', 'banana', 'orange']\n",
            "{'apple', 'cherry', 'orange', 'banana'}\n"
          ]
        }
      ]
    }
  ]
}